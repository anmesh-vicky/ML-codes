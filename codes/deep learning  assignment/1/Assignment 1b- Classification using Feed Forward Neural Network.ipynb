{
 "cells": [
  {
   "cell_type": "code",
   "execution_count": 2,
   "metadata": {},
   "outputs": [
    {
     "name": "stdout",
     "output_type": "stream",
     "text": [
      "150 4\n"
     ]
    }
   ],
   "source": [
    "'''\n",
    "Name : Anmesh Choudhury\n",
    "Roll No: 16NA30003\n",
    "\n",
    "Assignment 1b\n",
    "'''\n",
    "\n",
    "import numpy as np\n",
    "import matplotlib.pyplot as plt\n",
    "import pandas as pd\n",
    "\n",
    "df= pd.read_csv('Iris_Data.csv')\n",
    "df.head()\n",
    "\n",
    "'''\n",
    "You will not import any other library other than these provided.\n",
    "\n",
    "We provide the iris_dataset for the classification task\n",
    "There are 4 dependent variables columns(1-4).\n",
    "The last column (category of the flower) is what we wish to predict\n",
    "\n",
    "The first part of this task is similar to assignment 1 a\n",
    "'''\n",
    "# reads the file and stores in 2 numpy arrays.\n",
    "# X has the input features and Y has the output value in numpy array\n",
    "\n",
    "X = df.iloc[:,:-1].values\n",
    "Y = df.iloc[:,-1].values\n",
    "\n",
    "rows,cols= X.shape\n",
    "# how to get the number of rows and columns in the dataset.\n",
    "# Rows correspond to the number of input instances, columns correspond to the feature of an input\n",
    "\n",
    "print(rows,cols)\n",
    "\n",
    "np.random.seed(42) # to ensure that the same seed is generated\n",
    "\n",
    "# write code to shuffle the dataset\n",
    "\n",
    "def shuffle_dataset(X,Y):\n",
    "    \n",
    "    s = np.random.permutation(X.shape[0])\n",
    " \n",
    "    X1=X[s]\n",
    "    Y1=Y[s]\n",
    "    \n",
    "    return X1,Y1\n",
    "    pass\n",
    "X,Y=shuffle_dataset(X,Y)\n",
    "training_size = int(0.8*rows)\n",
    "X_train = X[:training_size]\n",
    "y_train = Y[:training_size]\n",
    "X_test = X[training_size:]\n",
    "y_test = Y[training_size:]"
   ]
  },
  {
   "cell_type": "markdown",
   "metadata": {},
   "source": [
    "## Defining the Feed Forward Neural Network class"
   ]
  },
  {
   "cell_type": "code",
   "execution_count": 4,
   "metadata": {
    "collapsed": true
   },
   "outputs": [],
   "source": [
    "class NeuralNetwork(object):\n",
    "    \n",
    "    def __init__(self, input_no, hidden_no, output_no ):\n",
    "\n",
    "        self.h= np.zeros((hidden_no,1))\n",
    "        self.w1= np.random.uniform(0,0.01,(input_no,hidden_no))\n",
    "        self.b1= np.random.uniform(0,0.01,(1,hidden_no))\n",
    "        self.w2= np.random.uniform(0,.01,(hidden_no,output_no))\n",
    "        self.b2= np.random.uniform(0,0.01,(1,output_no))\n",
    "        pass\n",
    "\n",
    "    \n",
    "    def forward(self, x):\n",
    "        self.h=np.maximum(0, np.dot(x, self.w1) + self.b1)\n",
    "        scores = np.dot(self.h, self.w2) + self.b2   \n",
    "        exp_scores = np.exp(scores)\n",
    "        probs = exp_scores / np.sum(exp_scores, axis=1, keepdims=True)\n",
    "        return probs\n",
    "        pass\n",
    "    \n",
    "    def backward(self, x, y_train, y_pred, lr):\n",
    "        row=len(y_train)\n",
    "        deri = y_pred\n",
    "        deri[range(row),y_train] -= 1\n",
    "        deri /=row\n",
    "        self.w2 += -lr*np.dot(self.h.T, deri)\n",
    "        self.b2 += -lr*np.sum(deri, axis=0, keepdims=True)\n",
    "        d_hidden = np.dot(deri, self.w2.T)\n",
    "        d_hidden[self.h <= 0] = 0\n",
    "        self.w1 += -lr*np.dot(x.T, d_hidden)\n",
    "        self.b1 += -lr*np.sum(d_hidden, axis=0, keepdims=True)\n",
    "        pass\n",
    "             \n",
    "\n",
    "        \n",
    "def crossEntropy_loss(y_pred, y_train):\n",
    "    sum=0\n",
    "    n=len(y_train)\n",
    "    for i in range(n):\n",
    "        sum+=-np.log(y_pred[i][y_train[i]])\n",
    "    loss=sum/n\n",
    "    return loss\n",
    "    pass\n",
    "\n",
    "def accuracy(y_pred,y_train):\n",
    "    c = np.argmax(y_pred, axis=1)\n",
    "    return (np.mean(c == y_train))\n",
    "    pass\n",
    "        \n"
   ]
  },
  {
   "cell_type": "code",
   "execution_count": 5,
   "metadata": {},
   "outputs": [
    {
     "name": "stdout",
     "output_type": "stream",
     "text": [
      "Loss fuction decrease after 1000 epochs of training\n"
     ]
    },
    {
     "data": {
      "image/png": "[encoded data removed]",
      "text/plain": [
       "<matplotlib.figure.Figure at 0x1e5ae8817f0>"
      ]
     },
     "metadata": {},
     "output_type": "display_data"
    },
    {
     "name": "stdout",
     "output_type": "stream",
     "text": [
      "Final train_loss 0.577209015179\n",
      "Final train_accuracy 0.7\n",
      "Testloss 0.597518075134\n",
      "Accuracy is 0.666666666667\n"
     ]
    }
   ],
   "source": [
    "# Initialize the neural network model and specify the parameters \n",
    "\n",
    "cols=4\n",
    "hidden_nodes=3\n",
    "nnobj= NeuralNetwork(cols,hidden_nodes,3)       \n",
    "epochs = 1000\n",
    "learning_rate = 1e-2\n",
    "loss_history = []\n",
    "epoch_history = []\n",
    "\n",
    "# Gradient Descent\n",
    "for e in range(epochs):\n",
    "    yPred= nnobj.forward(X_train)\n",
    "    train_loss= crossEntropy_loss(yPred,y_train)\n",
    "    if e==0 or (e+1)%10==0:\n",
    "        loss_history.append(train_loss)\n",
    "        epoch_history.append(e+1)\n",
    "        \n",
    "    nnobj.backward(X_train, y_train,yPred, lr=learning_rate) #lmda=lmda)\n",
    "    \n",
    "\n",
    "yPred= nnobj.forward(X_train)\n",
    "train_accuracy= accuracy(yPred,y_train)\n",
    "y_pred_test=nnobj.forward(X_test)\n",
    "test_loss= crossEntropy_loss(y_pred_test,y_test)\n",
    "test_accuracy= accuracy(y_pred_test,y_test)\n",
    "print('Loss fuction decrease after ' + str(epochs) + ' epochs of training')\n",
    "\n",
    "plt.plot(epoch_history, loss_history)\n",
    "plt.show()\n",
    "    \n",
    "print(\"Final train_loss \"+ str(train_loss))    \n",
    "print(\"Final train_accuracy \"+ str(train_accuracy))    \n",
    "print(\"Testloss \" + str(test_loss))\n",
    "print(\"Accuracy is \"+ str(test_accuracy))\n",
    "\n",
    "        \n",
    "            "
   ]
  }
 ],
 "metadata": {
  "kernelspec": {
   "display_name": "Python 3",
   "language": "python",
   "name": "python3"
  },
  "language_info": {
   "codemirror_mode": {
    "name": "ipython",
    "version": 3
   },
   "file_extension": ".py",
   "mimetype": "text/x-python",
   "name": "python",
   "nbconvert_exporter": "python",
   "pygments_lexer": "ipython3",
   "version": "3.6.3"
  }
 },
 "nbformat": 4,
 "nbformat_minor": 2
}
